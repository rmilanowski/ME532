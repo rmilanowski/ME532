{
 "cells": [
  {
   "cell_type": "markdown",
   "metadata": {},
   "source": [
    "# ECE532 Final Project: Clustering Congressional Districts"
   ]
  },
  {
   "cell_type": "markdown",
   "metadata": {},
   "source": [
    "## Main Activity\n",
    "### Group Members: Michael Hickey, Thomas Hillebrand, Ryan Milanowski\n"
   ]
  },
  {
   "cell_type": "markdown",
   "metadata": {},
   "source": [
    "# 3) Sample Dataset: Review of Clustering Algorithms"
   ]
  },
  {
   "cell_type": "markdown",
   "metadata": {},
   "source": [
    "#### Load Libraries"
   ]
  },
  {
   "cell_type": "markdown",
   "metadata": {},
   "source": [
    "The algorithms included in this assignment will be coded using the R programming language. First, we must load our libraries:"
   ]
  },
  {
   "cell_type": "code",
   "execution_count": 13,
   "metadata": {},
   "outputs": [],
   "source": [
    "library(dplyr)\n",
    "library(ggplot2)\n",
    "library(magrittr)"
   ]
  },
  {
   "cell_type": "markdown",
   "metadata": {},
   "source": [
    "#### Define Functions"
   ]
  },
  {
   "cell_type": "markdown",
   "metadata": {},
   "source": [
    "To run the mean shift algorithm, some libraries are required that are not available in the standard environment.  We will recreate those libraries using the following code block.  This is a lot of code, but do not worry.  We'll go through the applicable functions and their usage in the exercises below."
   ]
  },
  {
   "cell_type": "code",
   "execution_count": 14,
   "metadata": {
    "collapsed": true
   },
   "outputs": [],
   "source": [
    "blurringMeanShiftOperator <- function( X, h=1, kernel=\"epanechnikovKernel\" ){\n",
    "\t\n",
    "\tn.curves <- ncol( X )\n",
    "\t\n",
    "\t## compute distances\n",
    "\tdistances <- as.matrix( dist( t( X ), diag=TRUE, upper=TRUE ) )\n",
    "\t\n",
    "\t## scale by bandwidth\n",
    "\tscaled.distances <- distances / h\n",
    "\t\n",
    "\t## evaluate kernel\n",
    "\tkernel <- get( kernel )\n",
    "\tkernel.values <- matrix( kernel( scaled.distances ), nrow=n.curves,\n",
    "\tncol=n.curves ) \n",
    "\t\n",
    "\t## weights denominators\n",
    "\ttotal.sum <- colSums( kernel.values )\n",
    "\t\n",
    "\t## weights\n",
    "\tkernel.weights <- kernel.values / total.sum\n",
    "\n",
    "\t## update\n",
    "\tnew.X <- X%*%t( kernel.weights )\n",
    "\t\n",
    "\toutput <- new.X\n",
    "\t\n",
    "\treturn( new.X )\n",
    "\t\n",
    "}\n",
    "\n",
    "blurringMeanShiftAlgorithm <- function( X, h=NULL,\n",
    "kernel=\"epanechnikovKernel\", tol.stop=1e-6, max.iter=100 ){\n",
    "\t\n",
    "\tif( is.null( h ) ){\n",
    "\t\t\n",
    "\t\th <- quantile( dist( t( X ) ), 0.3 )\n",
    "\t\t\n",
    "\t}\n",
    "\t\n",
    "\tclose.enough <- FALSE\n",
    "\t\n",
    "\told.X <- X\n",
    "\t\n",
    "\titer <- 0\n",
    "\tnot.converged <- FALSE\n",
    "\t\n",
    "\t## while the largest update corresponds to a shift\n",
    "\t## larger than 'tol.stop' and while number of iterations\n",
    "\t## is smaller than 'max.iter'\n",
    "\twhile( !close.enough ){\n",
    "\t\t\n",
    "\t\t## apply blurring mean-shift operator and update\n",
    "\t\titer <- iter + 1\n",
    "\t\t\n",
    "\t\tnew.X <- blurringMeanShiftOperator( X=old.X, h=h, kernel=kernel )\n",
    "\t\t\n",
    "\t\tdistance <- max( sqrt( colSums( old.X - new.X )^2 ) )\n",
    "\t\t\n",
    "\t\told.X <- new.X\n",
    "\t\t\n",
    "\t\tclose.enough <- ( distance < tol.stop )\n",
    "\t\t\n",
    "\t\tif( iter >= max.iter ){\n",
    "\t\t\t\n",
    "\t\t\tnot.converged <- TRUE\n",
    "\t\t\tbreak\n",
    "\t\t\t\n",
    "\t\t}\n",
    "\t\t\n",
    "\t}\n",
    "\t\n",
    "\tif( not.converged ){\n",
    "\t\t\n",
    "\t\tif( kernel == \"epanechnikovKernel\"){\n",
    "\t\t\t\n",
    "\t\t\twarning( \"Reached maximum number of iterations (\", \n",
    "\t\t\tas.character( max.iter),\"). The algorithm \",\n",
    "\t\t\t\"didn't converge. Try increasing max.iter.\" )\n",
    "\t\t\t\n",
    "\t\t} else{\n",
    "\n",
    "\t\t\twarning( \"Reached maximum number of iterations (\", \n",
    "\t\t\tas.character( max.iter),\"). The algorithm \",\n",
    "\t\t\t\"didn't converge. Try kernel=\\\"epanechnikovKernel\\\".\" )\n",
    "\t\t\t\n",
    "\t\t}\n",
    "\t\t\n",
    "\t} else{\n",
    "\n",
    "\t\tmessage( \"Blurring mean-shift algorithm ran successfully.\\n\")\n",
    "\t\t\t\n",
    "\t}\n",
    "\t\n",
    "\treturn( new.X )\n",
    "\t\n",
    "}\n",
    "\n",
    "bmsClustering <- function( X, h=NULL, kernel=\"epanechnikovKernel\",\n",
    "tol.stop=1e-6, max.iter=100, tol.epsilon=1e-3 ){\n",
    "\t\n",
    "\t# minimal input checking\n",
    "\tX <- as.matrix( X )\n",
    "\tmax.iter <- as.integer( max.iter )\n",
    "\t\n",
    "\tif( ncol( X ) <= 1 ){\n",
    "\t\t\n",
    "\t\tmessage( \"The input matrix X has only one column: \",\n",
    "\t\t\"returning input.\")\n",
    "\t\treturn( X )\n",
    "\t}\n",
    "\n",
    "\tif( !is.element( kernel, paste( c( \"epanechnikov\", \"cubic\", \n",
    "\t\"gaussian\", \"exponential\"), \"Kernel\", sep=\"\" ) ) ){\n",
    "\t\t\n",
    "\t\tstop( \"Invalid kernel name.\")\n",
    "\t\t\n",
    "\t}\n",
    "\t\n",
    "\tif( !is.null( h ) && h <= 0 ){\n",
    "\t\t\n",
    "\t\tstop( \"The bandwidth must be strictly positive.\" )\n",
    "\t\t\t\t\n",
    "\t}\n",
    "\t\n",
    "\tif( max.iter <= 0 ){\n",
    "\t\t\n",
    "\t\tstop( \"The maximum number of iterations must be a positive \",\n",
    "\t\t\"integer.\" )\n",
    "\t\t\n",
    "\t}\n",
    "\t\n",
    "\tif( tol.stop <= 0 || tol.epsilon <= 0 ){\n",
    "\t\t\n",
    "\t\tstop( \"All tolerances must be strictly positive.\")\n",
    "\t\t\n",
    "\t}\n",
    "\t\n",
    "\t## run blurring mean-shift algorithm\n",
    "\tmessage( \"\\nRunning blurring mean-shift algorithm...\\n\" )\n",
    "\t\n",
    "\tblurring.mean.shift.algorithm <- blurringMeanShiftAlgorithm( X=X,\n",
    "\th=h, kernel=kernel, tol.stop=tol.stop, max.iter=max.iter )\n",
    "\t\n",
    "\t## find connected components\n",
    "\tmessage( \"Finding clusters...\" )\n",
    "\toutput <- connectedComponents( X=blurring.mean.shift.algorithm,\n",
    "\ttol.epsilon=tol.epsilon )\n",
    "\t\n",
    "\tinvisible( output )\n",
    "\n",
    "}\n",
    "\n",
    "\n",
    "gaussianKernel <- function( x ){\n",
    "\t\n",
    "\t## function to evaluate the asymmetric gaussian kernel\t\n",
    "\tcomputeGaussianKernel <- function( y ){\n",
    "\t\n",
    "\t\tif( 0 <= y ){\n",
    "\t\t\n",
    "\t\t\tvalue <- 2 / 0.388 * dnorm( y / 0.388 )\n",
    "\t\t\n",
    "\t\t} else{\n",
    "\t\t\n",
    "\t\t\tvalue <- 0\n",
    "\t\t\n",
    "\t\t}\n",
    "\t\n",
    "\t\treturn( value )\n",
    "\t\n",
    "\t}\n",
    "\t\n",
    "\toutput <- sapply( x, computeGaussianKernel )\n",
    "\t\n",
    "\treturn( output )\n",
    "\t\t\n",
    "}\n",
    "\n",
    "\n",
    "###\n",
    "\n",
    "exponentialKernel <- function( x ){\n",
    "\t\n",
    "\t## function to evaluate the asymmetric exponential kernel\t\n",
    "\tcomputeExponentialKernel <- function( y ){\n",
    "\t\n",
    "\t\tif( 0 <= y ){\n",
    "\t\t\n",
    "\t\t\tvalue <- dexp( y, rate=4.61 )\n",
    "\t\t\n",
    "\t\t} else{\n",
    "\t\t\n",
    "\t\t\tvalue <- 0\n",
    "\t\t\n",
    "\t\t}\n",
    "\t\n",
    "\t\treturn( value )\n",
    "\t\n",
    "\t}\n",
    "\t\n",
    "\toutput <- sapply( x, computeExponentialKernel )\n",
    "\t\n",
    "\treturn( output )\n",
    "\t\t\n",
    "}\n",
    "\n",
    "###\n",
    "\n",
    "cubicKernel <- function( x ){\n",
    "\t\n",
    "\t## function to evaluate the asymmetric cubic kernel\t\n",
    "\tcomputeCubicKernel <- function( y ){\n",
    "\t\n",
    "\t\tif( 0 <= y && y<= 1 ){\n",
    "\t\t\n",
    "\t\t\tvalue <- 4 * ( 1 - y )^3\n",
    "\t\t\n",
    "\t\t} else{\n",
    "\t\t\n",
    "\t\t\tvalue <- 0\n",
    "\t\t\n",
    "\t\t}\n",
    "\t\n",
    "\t\treturn( value )\n",
    "\t\n",
    "\t}\n",
    "\t\n",
    "\toutput <- sapply( x, computeCubicKernel )\n",
    "\t\n",
    "\treturn( output )\n",
    "\t\t\n",
    "}\n",
    "\n",
    "###\n",
    "\n",
    "epanechnikovKernel <- function( x ){\n",
    "\t\n",
    "\t## function to evaluate the asymmetric Epanechnikov kernel\t\n",
    "\tcomputeEpanechnikovKernel <- function( y ){\n",
    "\t\n",
    "\t\tif( 0 <= y && y<= 1 ){\n",
    "\t\t\n",
    "\t\t\tvalue <- 3 / 2 * ( 1 - y^2 )\n",
    "\t\t\n",
    "\t\t} else{\n",
    "\t\t\n",
    "\t\t\tvalue <- 0\n",
    "\t\t\n",
    "\t\t}\n",
    "\t\n",
    "\t\treturn( value )\n",
    "\t\n",
    "\t}\n",
    "\t\n",
    "\toutput <- sapply( x, computeEpanechnikovKernel )\n",
    "\t\n",
    "\treturn( output )\n",
    "\t\t\n",
    "}\n",
    "\n",
    "###\n",
    "\n",
    "distanceFunction <- function( x, y ){\n",
    "\t\n",
    "\t## function to compute the standard euclidean distance\n",
    "\toutput <- sqrt( sum( ( x - y )^2 ) )\n",
    "\t\n",
    "\treturn( output )\n",
    "\t\n",
    "}\n",
    "\n",
    "###\n",
    "\n",
    "connectedComponents <- function( X, tol.epsilon=1e-3 ){\n",
    "\n",
    "\tN <- ncol( X )\n",
    "\t\n",
    "\t## initialize components matrix\n",
    "\tC <- X\n",
    "\t\n",
    "\t## initialize components vector\n",
    "\tlabels <- vector( mode=\"integer\", length=N )\n",
    "\t\n",
    "\tK <- 1 \n",
    "\tlabels[1] <- 1\n",
    "\tC[,1] <- X[,1]\n",
    "\t\n",
    "\t# pb <- txtProgressBar( min=0, max=N, style=3 )\n",
    "\t\n",
    "\t## efficient connected component algorithm\n",
    "\tfor( n in 2:N ){\n",
    "\t\t\n",
    "\t\tassigned <- FALSE\n",
    "\t\t\t\t\n",
    "\t\tfor( k in 1:K ){\n",
    "\t\t\t\n",
    "\t\t\tdistance <- distanceFunction( X[,n], C[,k] )\n",
    "\t\t\t\n",
    "\t\t\tif( distance < tol.epsilon ){\n",
    "\t\t\t\t\n",
    "\t\t\t\tlabels[n] <- k\n",
    "\t\t\t\tassigned <- TRUE\n",
    "\t\t\t\tbreak\n",
    "\t\t\t\t\n",
    "\t\t\t}\n",
    "\t\t\t\n",
    "\t\t}\n",
    "\t\t\n",
    "\t\tif( !assigned ){\n",
    "\t\t\t\n",
    "\t\t\tK <- K + 1\n",
    "\t\t\tlabels[n] <- K\n",
    "\t\t\tC[,K] <- X[,n]\n",
    "\t\t\t\n",
    "\t\t}\n",
    "\t\t\n",
    "\t\t# setTxtProgressBar( pb, n )\n",
    "\t\t\n",
    "\t}\n",
    "\t\n",
    "\tC <- as.matrix( C[,1:K] )\n",
    "\tcolnames( C ) <- paste( \"mode\", 1:K, sep=\"\" )\n",
    "\t\n",
    "\tlabels <- as.integer( labels )\n",
    "\t\n",
    "\toutput <- list( components=C, labels=labels )\n",
    "\t\n",
    "\t# close( pb )\n",
    "\t\n",
    "\tmessage( \"\\nThe algorithm found \", as.character( K ),\n",
    "\t\" clusters.\\n\")\n",
    "\t\n",
    "\treturn( output )\n",
    "\t\t\n",
    "}"
   ]
  },
  {
   "cell_type": "markdown",
   "metadata": {},
   "source": [
    "#### Preview example data: Iris"
   ]
  },
  {
   "cell_type": "markdown",
   "metadata": {},
   "source": [
    "Before clustering for the Congressional district application, we will practice on small scale example data.\n",
    "\n",
    "`iris` is the name of a sample data set built into the R program. We can compare values of sepal and petal sizes of different species"
   ]
  },
  {
   "cell_type": "code",
   "execution_count": 15,
   "metadata": {},
   "outputs": [
    {
     "data": {
      "text/html": [
       "<table>\n",
       "<thead><tr><th scope=col>Sepal.Length</th><th scope=col>Sepal.Width</th><th scope=col>Petal.Length</th><th scope=col>Petal.Width</th><th scope=col>Species</th></tr></thead>\n",
       "<tbody>\n",
       "\t<tr><td>5.1   </td><td>3.5   </td><td>1.4   </td><td>0.2   </td><td>setosa</td></tr>\n",
       "\t<tr><td>4.9   </td><td>3.0   </td><td>1.4   </td><td>0.2   </td><td>setosa</td></tr>\n",
       "\t<tr><td>4.7   </td><td>3.2   </td><td>1.3   </td><td>0.2   </td><td>setosa</td></tr>\n",
       "\t<tr><td>4.6   </td><td>3.1   </td><td>1.5   </td><td>0.2   </td><td>setosa</td></tr>\n",
       "\t<tr><td>5.0   </td><td>3.6   </td><td>1.4   </td><td>0.2   </td><td>setosa</td></tr>\n",
       "\t<tr><td>5.4   </td><td>3.9   </td><td>1.7   </td><td>0.4   </td><td>setosa</td></tr>\n",
       "</tbody>\n",
       "</table>\n"
      ],
      "text/latex": [
       "\\begin{tabular}{r|lllll}\n",
       " Sepal.Length & Sepal.Width & Petal.Length & Petal.Width & Species\\\\\n",
       "\\hline\n",
       "\t 5.1    & 3.5    & 1.4    & 0.2    & setosa\\\\\n",
       "\t 4.9    & 3.0    & 1.4    & 0.2    & setosa\\\\\n",
       "\t 4.7    & 3.2    & 1.3    & 0.2    & setosa\\\\\n",
       "\t 4.6    & 3.1    & 1.5    & 0.2    & setosa\\\\\n",
       "\t 5.0    & 3.6    & 1.4    & 0.2    & setosa\\\\\n",
       "\t 5.4    & 3.9    & 1.7    & 0.4    & setosa\\\\\n",
       "\\end{tabular}\n"
      ],
      "text/markdown": [
       "\n",
       "| Sepal.Length | Sepal.Width | Petal.Length | Petal.Width | Species |\n",
       "|---|---|---|---|---|\n",
       "| 5.1    | 3.5    | 1.4    | 0.2    | setosa |\n",
       "| 4.9    | 3.0    | 1.4    | 0.2    | setosa |\n",
       "| 4.7    | 3.2    | 1.3    | 0.2    | setosa |\n",
       "| 4.6    | 3.1    | 1.5    | 0.2    | setosa |\n",
       "| 5.0    | 3.6    | 1.4    | 0.2    | setosa |\n",
       "| 5.4    | 3.9    | 1.7    | 0.4    | setosa |\n",
       "\n"
      ],
      "text/plain": [
       "  Sepal.Length Sepal.Width Petal.Length Petal.Width Species\n",
       "1 5.1          3.5         1.4          0.2         setosa \n",
       "2 4.9          3.0         1.4          0.2         setosa \n",
       "3 4.7          3.2         1.3          0.2         setosa \n",
       "4 4.6          3.1         1.5          0.2         setosa \n",
       "5 5.0          3.6         1.4          0.2         setosa \n",
       "6 5.4          3.9         1.7          0.4         setosa "
      ]
     },
     "metadata": {},
     "output_type": "display_data"
    }
   ],
   "source": [
    "head(iris) # Return first 6 rows of iris data set"
   ]
  },
  {
   "cell_type": "code",
   "execution_count": 16,
   "metadata": {},
   "outputs": [
    {
     "data": {
      "image/png": "[encoded data removed]",
      "text/plain": [
       "plot without title"
      ]
     },
     "metadata": {},
     "output_type": "display_data"
    }
   ],
   "source": [
    "# Generate scatter plot of two columns of the `iris` data set\n",
    "ggplot(iris) +\n",
    "    geom_point(aes(x = Petal.Length, y = Petal.Width)) +\n",
    "    labs(x = \"Petal Length\", y = \"Petal Width\", title = \"Scatterplot of `iris` Data Set\") +\n",
    "    theme_minimal()"
   ]
  },
  {
   "cell_type": "markdown",
   "metadata": {},
   "source": [
    "There appear to be at least 2 natural clusters in the data. We will apply both the K-Means and Mean Shift clustering algorithms to automatically determine clusters."
   ]
  },
  {
   "cell_type": "markdown",
   "metadata": {},
   "source": [
    "## 3.1) K-Means Clustering Algorithm"
   ]
  },
  {
   "cell_type": "markdown",
   "metadata": {},
   "source": [
    "The first step is to scale the data. \n",
    "\n",
    "In many clustering applications, different variables are defined on scales that are difficult to compare (e.g. weight and distance, etc). However, most clustering algorithms work by comparing the Euclidean distance between points (the square root of sum of squares of each single-dimensional distance). If one clustering parameter is defined on a scale that is arbitrarily larger than another clustering parameter, then the clustering results will be skewed to care more about the first parameter. For example, if two clustering parameters are annual salary ($) and age (years), then the resulting clusters will largely ignore any differences in age which are much smaller than differences in salary.\n",
    "\n",
    "To account for unbalances in parameter scales, a useful practice to apply before clustering data is to scale and center the parameters. In many cases it is useful to subtract each parameter value by its mean value (setting the new mean to zero), and dividing by the parameter's standard deviation (setting the new standard deviation to 1).\n",
    "\n",
    "This practice is applied in the example below:"
   ]
  },
  {
   "cell_type": "code",
   "execution_count": 17,
   "metadata": {
    "collapsed": true
   },
   "outputs": [],
   "source": [
    "# We only need the two columns of data that we will be clustering\n",
    "TestData <- iris %>% transmute(Petal.Length, Petal.Width)\n",
    "\n",
    "# Scaling Data such that mean = 0, and sd = 1\n",
    "TestData$Petal.Length <- (TestData$Petal.Length-mean(TestData$Petal.Length))/sd(TestData$Petal.Length)\n",
    "TestData$Petal.Width <- (TestData$Petal.Width-mean(TestData$Petal.Width))/sd(TestData$Petal.Width)\n"
   ]
  },
  {
   "cell_type": "markdown",
   "metadata": {},
   "source": [
    "In R, the `kmeans()` function requires three inputs:\n",
    "\n",
    "- The clustering data set\n",
    "- The specified number of clusters, `K`\n",
    "- The maximum number of iterations allowed, `iter.max` (this will only be reached if convergence is not achieved)\n",
    "\n",
    "Note that the initial cluster centers are randomly determined by the `kmeans()` function, unless they are specified. In this exercise, we will set a random seed `set.seed(0)` to ensure the initial cluster centers are always the same when this code is run."
   ]
  },
  {
   "cell_type": "code",
   "execution_count": 18,
   "metadata": {},
   "outputs": [
    {
     "data": {
      "image/png": "[encoded data removed]",
      "text/plain": [
       "plot without title"
      ]
     },
     "metadata": {},
     "output_type": "display_data"
    }
   ],
   "source": [
    "# Set Parameters\n",
    "K <- 8            # Number of K-Means clusters\n",
    "set.seed(2)       # Random seed (This allows for repeatable results)\n",
    "iter.max <- 10     # Maximum number of kmeans iterations\n",
    "\n",
    "# Apply K-Means Clustering\n",
    "clust <- kmeans(TestData, centers = K, iter.max = iter.max)\n",
    "\n",
    "PlotTestData <- iris\n",
    "PlotTestData$cluster <- as.factor(clust$cluster)\n",
    "\n",
    "ggplot(PlotTestData) +\n",
    "    geom_point(aes(x = Petal.Length, y = Petal.Width, color = cluster)) +\n",
    "    labs(x = \"Petal Length\", y = \"Petal Width\", title = \"Iris Clustering\",\n",
    "         color = \"Cluster\") + \n",
    "    scale_color_brewer(palette = \"Dark2\")"
   ]
  },
  {
   "cell_type": "markdown",
   "metadata": {},
   "source": [
    "### Activity 1: Examining the Effects of K-Means Input Parameters\n",
    "\n",
    "Use the above code block to alter inputs and re-generate the plot. Only the three lines under the comment `# Set Parameters` will need to be changed.\n",
    "\n",
    "#### Question 1. a)\n",
    "Ensure the following parameters are specified, and run the code chunk above: `K <- 2`, `set.seed(0)`, and `iter.max <- 10`. \n",
    "\n",
    "- Are the resulting clusters logical (i.e. do they appear to accurately represent clusters in the data)?\n",
    "- Are the resulting clusters the same size (number of data points) as one another? Why or why not?\n",
    "\n",
    "#### Question 1. b)\n",
    "Ensure the following parameters are specified, and run the code chunk above: `K <- 8`, `set.seed(0)`, and `iter.max <- 2`. \n",
    "\n",
    "- Does the K-Means clustering algorithm converge on a solution?\n",
    "- Try increasing the `iter.max` parameter. How many iterations are needed to converge on a solution?\n",
    "- On a large data set, with many rows and columns, why might it be beneficial to limit the number of iterations?\n",
    "\n",
    "\n",
    "#### Question 1. c)\n",
    "Reset the following parameters are specified, and run the code chunk above: `K <- 8`, `set.seed(0)`, and `iter.max <- 10`. \n",
    "\n",
    "- Now reset the random seed as `set.seed(2)`. This will effectively results in a different set of initial cluster centers. Do the results change? \n",
    "- Try several different random seeds. Do the results always converge on the same solution?\n"
   ]
  },
  {
   "cell_type": "markdown",
   "metadata": {},
   "source": [
    "## 3.2) Mean Shift Clustering Algorithm"
   ]
  },
  {
   "cell_type": "markdown",
   "metadata": {},
   "source": [
    "We will utilize the same scaled data as created for the K-means algorithm.\n",
    "\n",
    "In R there are several mean shift algorithms available.  We'll be utilizing one we recreated from a package called MeanShift.  Within this package there are 2 different mean shift algorthims, a standard and a \"blurring\" version, which approximates the standard mean shift algorithm. Because it recursively updates the entire sample at each iteration, the blurring version of the mean shift algorithm is often faster than the standard version (especially if the standard mean shift algorithm is run using a single core).\n",
    "\n",
    "For speed purposes, we'll be using the blurring mean shift algorithm\n",
    "\n",
    "The bmsClustering() function requires five inputs:\n",
    "\n",
    "- The clustering data set\n",
    "- The bandwidth\n",
    "- The kernal function - The following kernels are supported:Epanechnikov, cubic, Gaussian, exponential\n",
    "- A stop tolerance - The mean shift algorithm stops when its update generates a step of length smaller than tol.stop. tol.stop should be considerably smaller than tol.epsilon.\n",
    "- The maximum number of iterations allowed, iter.max (this will only be reached if convergence is not achieved)\n",
    "- An epsilon tolerance - Points that are less than tol.epsilon- separated are grouped in the same cluster once the algorithm stops."
   ]
  },
  {
   "cell_type": "code",
   "execution_count": 19,
   "metadata": {},
   "outputs": [
    {
     "name": "stderr",
     "output_type": "stream",
     "text": [
      "\n",
      "Running blurring mean-shift algorithm...\n",
      "\n",
      "Blurring mean-shift algorithm ran successfully.\n",
      "\n",
      "Finding clusters...\n",
      "\n",
      "The algorithm found 2 clusters.\n",
      "\n"
     ]
    },
    {
     "data": {
      "image/png": "[encoded data removed]",
      "text/plain": [
       "plot without title"
      ]
     },
     "metadata": {},
     "output_type": "display_data"
    }
   ],
   "source": [
    "# Set Parameters\n",
    "X <- t(TestData)  #The data requires a data set with the points in each column\n",
    "h <- 1 # the bandwidth parameter\n",
    "kernel <- \"epanechnikovKernel\" # The kernal can be \"epanechnikovKernel\", \"cubicKernel\", \"gaussianKernel\", \"exponentialKernel\"\n",
    "tol.stop <- 1e-6    # Stop tolerance\n",
    "tol.epsilon <- 1e-04  # Eplison tolerance\n",
    "max.iter <- 10  # Maximum number of meanshift iterations\n",
    "\n",
    "# Apply MeanShift Clustering\n",
    "clust_ms <- bmsClustering(X = X,\n",
    "                         h=h,\n",
    "                         kernel = kernel,\n",
    "                         tol.stop = tol.stop,\n",
    "                         tol.epsilon = tol.epsilon,\n",
    "                         max.iter = max.iter)\n",
    "\n",
    "PlotTestDataMS <- iris\n",
    "PlotTestDataMS$cluster <- as.factor(clust_ms$labels)\n",
    "\n",
    "ggplot(PlotTestDataMS) +\n",
    "    geom_point(aes(x = Petal.Length, y = Petal.Width, color = cluster)) +\n",
    "    labs(x = \"Petal Length\", y = \"Petal Width\", title = \"Iris Clustering\",\n",
    "         color = \"Cluster\") "
   ]
  },
  {
   "cell_type": "markdown",
   "metadata": {},
   "source": [
    "### Activity 2: Examing the Effects of MeanShift Input Parameters\n",
    "\n",
    "Use the above code block to alter inputs and re-generate the plot. Only the lines under the comment `# Set Parameters` will need to be changed.\n",
    "\n",
    "#### Question 2. a)\n",
    "Ensure the following parameters are specified, and run the code chunk above: `h <- 1` and `iter.max <- 10`. \n",
    "\n",
    "- Are the resulting clusters logical (i.e. do they appear to accurately represent clusters in the data)?\n",
    "- Are the resulting clusters the same size (number of data points) as one another? Why or why not?\n",
    "\n",
    "#### Question 2. b)\n",
    "Ensure the following parameters are specified, and run the code chunk above: `h <- 1`, and `iter.max <- 2`. \n",
    "\n",
    "- Does the MeanShift clustering algorithm converge on a solution?  How many clusters exist at this iteration?\n",
    "- How is this different than the K-Means?\n",
    "- Try increasing the `max.iter` parameter. How many iterations are needed to converge on a solution?\n",
    "\n",
    "\n",
    "#### Question 2. c)\n",
    "Reset the following parameters are specified, and run the code chunk above: `h <- .2` and `iter.max <- 10`. \n",
    "\n",
    "- What does reducing the bandwidth parameter do?\n",
    "- Try several different bandwidth parameters (Bandwidth parameters must be positive). What happens as the bandwidth parameter gets larger?"
   ]
  },
  {
   "cell_type": "markdown",
   "metadata": {},
   "source": [
    "# 4) Clustering Applications for Drawing Congressional Districts"
   ]
  },
  {
   "cell_type": "markdown",
   "metadata": {},
   "source": [
    "The data we will be clustering is from the US Census Bureau (https://www.census.gov/geographies/reference-files/time-series/geo/centers-population.html). It represents the distribution of Census Tracts in the state of Wisconsin. For the purposes of this assignment, we can make the simplifying assumption that each Census tract is associated with an equal population size. While this assumption is inaccurate, it sufficiently reduces the data size and computational time to allow for a reasonable timeframe for completing the assignment."
   ]
  },
  {
   "cell_type": "code",
   "execution_count": 21,
   "metadata": {},
   "outputs": [
    {
     "data": {
      "text/html": [
       "<table>\n",
       "<thead><tr><th scope=col>STATEFP</th><th scope=col>COUNTYFP</th><th scope=col>TRACTCE</th><th scope=col>POPULATION</th><th scope=col>LATITUDE</th><th scope=col>LONGITUDE</th></tr></thead>\n",
       "<tbody>\n",
       "\t<tr><td>55       </td><td>1        </td><td>950100   </td><td>2973     </td><td>44.20459 </td><td>-89.79452</td></tr>\n",
       "\t<tr><td>55       </td><td>1        </td><td>950201   </td><td>1379     </td><td>44.00266 </td><td>-89.87121</td></tr>\n",
       "\t<tr><td>55       </td><td>1        </td><td>950202   </td><td>2674     </td><td>44.08551 </td><td>-89.81285</td></tr>\n",
       "\t<tr><td>55       </td><td>1        </td><td>950400   </td><td>4767     </td><td>43.95711 </td><td>-89.79967</td></tr>\n",
       "\t<tr><td>55       </td><td>1        </td><td>950501   </td><td>1469     </td><td>43.89843 </td><td>-89.90778</td></tr>\n",
       "</tbody>\n",
       "</table>\n"
      ],
      "text/latex": [
       "\\begin{tabular}{r|llllll}\n",
       " STATEFP & COUNTYFP & TRACTCE & POPULATION & LATITUDE & LONGITUDE\\\\\n",
       "\\hline\n",
       "\t 55        & 1         & 950100    & 2973      & 44.20459  & -89.79452\\\\\n",
       "\t 55        & 1         & 950201    & 1379      & 44.00266  & -89.87121\\\\\n",
       "\t 55        & 1         & 950202    & 2674      & 44.08551  & -89.81285\\\\\n",
       "\t 55        & 1         & 950400    & 4767      & 43.95711  & -89.79967\\\\\n",
       "\t 55        & 1         & 950501    & 1469      & 43.89843  & -89.90778\\\\\n",
       "\\end{tabular}\n"
      ],
      "text/markdown": [
       "\n",
       "| STATEFP | COUNTYFP | TRACTCE | POPULATION | LATITUDE | LONGITUDE |\n",
       "|---|---|---|---|---|---|\n",
       "| 55        | 1         | 950100    | 2973      | 44.20459  | -89.79452 |\n",
       "| 55        | 1         | 950201    | 1379      | 44.00266  | -89.87121 |\n",
       "| 55        | 1         | 950202    | 2674      | 44.08551  | -89.81285 |\n",
       "| 55        | 1         | 950400    | 4767      | 43.95711  | -89.79967 |\n",
       "| 55        | 1         | 950501    | 1469      | 43.89843  | -89.90778 |\n",
       "\n"
      ],
      "text/plain": [
       "  STATEFP COUNTYFP TRACTCE POPULATION LATITUDE LONGITUDE\n",
       "1 55      1        950100  2973       44.20459 -89.79452\n",
       "2 55      1        950201  1379       44.00266 -89.87121\n",
       "3 55      1        950202  2674       44.08551 -89.81285\n",
       "4 55      1        950400  4767       43.95711 -89.79967\n",
       "5 55      1        950501  1469       43.89843 -89.90778"
      ]
     },
     "metadata": {},
     "output_type": "display_data"
    },
    {
     "name": "stdout",
     "output_type": "stream",
     "text": [
      "[1] \"Data consists of 1409 unique Wisconsin Census Tracts\"\n"
     ]
    }
   ],
   "source": [
    "Data <- read.csv(\"Wisconsin.csv\")\n",
    "head(Data, 5) # Preview first 8 rows of data\n",
    "print(paste0(\"Data consists of \", nrow(Data), \" unique Wisconsin Census Tracts\"))"
   ]
  },
  {
   "cell_type": "markdown",
   "metadata": {},
   "source": [
    "The first 8 rows of the dataset are previewed above. Each row represents an individual Cencus tract and has a unique combination of the first three columns (State, County, and Tract Code). The LATITUDE and LONGITUDE values represent the \"center of gravity\" of each Census tract. "
   ]
  },
  {
   "cell_type": "markdown",
   "metadata": {},
   "source": [
    "In the next code block, we clean and scale the data."
   ]
  },
  {
   "cell_type": "code",
   "execution_count": 22,
   "metadata": {
    "collapsed": true
   },
   "outputs": [],
   "source": [
    "# Reducing data set to only clustering parameters\n",
    "CongressData <- Data %>% transmute(LATITUDE, LONGITUDE)\n",
    "\n",
    "# Scaling Data\n",
    "CongressData$LATITUDE <- (CongressData$LATITUDE-mean(CongressData$LATITUDE))/sd(CongressData$LATITUDE)\n",
    "CongressData$LONGITUDE <- (CongressData$LONGITUDE-mean(CongressData$LONGITUDE))/sd(CongressData$LONGITUDE)"
   ]
  },
  {
   "cell_type": "markdown",
   "metadata": {},
   "source": [
    "### 4.1) Drawing Congressional Districts with MeanShift Clustering\n",
    "\n",
    "First, we will investigate the Wisconsin Congressional map using the MeanShift Algorithm. The below code can be run as written. Note, this may take a minute or longer to run.\n"
   ]
  },
  {
   "cell_type": "code",
   "execution_count": 23,
   "metadata": {},
   "outputs": [
    {
     "name": "stderr",
     "output_type": "stream",
     "text": [
      "\n",
      "Running blurring mean-shift algorithm...\n",
      "\n",
      "Blurring mean-shift algorithm ran successfully.\n",
      "\n",
      "Finding clusters...\n",
      "\n",
      "The algorithm found 8 clusters.\n",
      "\n"
     ]
    },
    {
     "data": {
      "image/png": "[encoded data removed]",
      "text/plain": [
       "plot without title"
      ]
     },
     "metadata": {},
     "output_type": "display_data"
    }
   ],
   "source": [
    "# Inputs\n",
    "K <- 8\n",
    "X <- t(CongressData)\n",
    "h <- .8\n",
    "\n",
    "kernel <- \"epanechnikovKernel\" #\"epanechnikovKernel\", \"cubicKernel\", \"gaussianKernel\", \"exponentialKernel\"\n",
    "tol.stop <- 1e-10\n",
    "tol.epsilon <- 1e-04\n",
    "max.iter <- 20\n",
    "\n",
    "\n",
    "Congress_clust_ms <- bmsClustering(X = X,\n",
    "                         h=h,\n",
    "                         kernel = kernel,\n",
    "                         tol.stop = tol.stop,\n",
    "                         tol.epsilon = tol.epsilon,\n",
    "                         max.iter = max.iter)\n",
    "\n",
    "# Unscale data for plotting and extract clusters associated with each Census tract\n",
    "PlotCongressDataMS <- Data %>% transmute(LATITUDE, LONGITUDE, POPULATION)\n",
    "PlotCongressDataMS$cluster <- Congress_clust_ms$labels\n",
    "\n",
    "ggplot() +\n",
    "    geom_point(data = PlotCongressDataMS,\n",
    "               aes(x = LONGITUDE, y = LATITUDE, color = as.factor(cluster)),\n",
    "               alpha = 1/2, size = 1) +\n",
    "    #geom_point(data = Centers,\n",
    "     #          aes(x = LONGITUDE, y = LATITUDE, color = as.factor(cluster)),\n",
    "      #         alpha = 1/2, size = 4) +\n",
    "    labs(x = \"Longitude (deg)\", y = \"Latitude (deg)\", title = \"Wisconsin Congressional Districts\",\n",
    "         subtitle = \"Mean Shift Clustering\",\n",
    "         color = \"Clustered District\") +\n",
    "    theme_minimal() "
   ]
  },
  {
   "cell_type": "markdown",
   "metadata": {},
   "source": [
    "The algorithm has converged on a solution with 8 Congressional districts. However, some districts appear to have far more Census tracts than others. Recall that our application requires districts/clusters with roughly equal populations. Let's plot a bar-chart of each district by number of Census Tracts (we assume this is equivalent to population count)."
   ]
  },
  {
   "cell_type": "code",
   "execution_count": 24,
   "metadata": {},
   "outputs": [
    {
     "data": {
      "image/png": "[encoded data removed]",
      "text/plain": [
       "plot without title"
      ]
     },
     "metadata": {},
     "output_type": "display_data"
    }
   ],
   "source": [
    "ggplot(PlotCongressDataMS %>% group_by(cluster) %>% summarize(Count = n())) +\n",
    "    geom_col(aes(x = as.factor(cluster), y = Count, fill = as.factor(cluster))) +\n",
    "    labs(x = \"Clustered District\", y = \"Number of Census Tracts\") + \n",
    "    theme_minimal() +\n",
    "    theme(legend.position=\"none\") +\n",
    "    scale_fill_brewer(palette = \"Dark2\")"
   ]
  },
  {
   "cell_type": "markdown",
   "metadata": {},
   "source": [
    "We can see that District 3 has more population than all other clusters combined. Unfortunately, this solution is not viable for our application."
   ]
  },
  {
   "cell_type": "markdown",
   "metadata": {},
   "source": [
    "### 4.2) Drawing Congressional Districts with K-Means Clustering"
   ]
  },
  {
   "cell_type": "markdown",
   "metadata": {},
   "source": [
    "Next, we apply the K-Means algorithem in order to cluster the Census data into proposed Congressional districts"
   ]
  },
  {
   "cell_type": "code",
   "execution_count": 25,
   "metadata": {
    "collapsed": true
   },
   "outputs": [],
   "source": [
    "# Set Input Values\n",
    "set.seed(0)\n",
    "K = 8\n",
    "IterMax = 5\n",
    "\n",
    "# Run K-Means Algorithm\n",
    "CongressCluster <- kmeans(CongressData, centers = K, iter.max = IterMax)\n",
    "\n",
    "# Unscale data for plotting and extract clusters associated with each Census tract\n",
    "PlotCongressData <- Data %>% transmute(LATITUDE, LONGITUDE, POPULATION)\n",
    "PlotCongressData$cluster <- CongressCluster$cluster\n",
    "\n",
    "# Create dataframe for plotting cluster centers\n",
    "Centers <- as.data.frame(CongressCluster$centers)\n",
    "Centers$LATITUDE <- Centers$LATITUDE*sd(PlotCongressData$LATITUDE) + mean(PlotCongressData$LATITUDE)\n",
    "Centers$LONGITUDE <- Centers$LONGITUDE*sd(PlotCongressData$LONGITUDE) + mean(PlotCongressData$LONGITUDE)\n",
    "Centers$cluster <- 1:K"
   ]
  },
  {
   "cell_type": "markdown",
   "metadata": {},
   "source": [
    "Next, the clustering results are plotted:"
   ]
  },
  {
   "cell_type": "code",
   "execution_count": 26,
   "metadata": {},
   "outputs": [
    {
     "data": {
      "image/png": "[encoded data removed]",
      "text/plain": [
       "plot without title"
      ]
     },
     "metadata": {},
     "output_type": "display_data"
    }
   ],
   "source": [
    "ggplot() +\n",
    "    geom_point(data = PlotCongressData,\n",
    "               aes(x = LONGITUDE, y = LATITUDE, color = as.factor(cluster)),\n",
    "               alpha = 1/2, size = 1) +\n",
    "    geom_point(data = Centers,\n",
    "               aes(x = LONGITUDE, y = LATITUDE, color = as.factor(cluster)),\n",
    "               alpha = 1/2, size = 4) +\n",
    "    labs(x = \"Longitude (deg)\", y = \"Latitude (deg)\", title = \"Wisconsin Congressional Districts\",\n",
    "         subtitle = \"K-Means Clustering\",\n",
    "         color = \"Clustered District\") + \n",
    "    theme_minimal() +\n",
    "    scale_color_brewer(palette = \"Dark2\")"
   ]
  },
  {
   "cell_type": "markdown",
   "metadata": {},
   "source": [
    "The resulting districts vary greatly in terms of the number of constituent Census tracts. Similar to the results of the Mean Shift algorithm, this presents a problem, because our application requires districts of roughly equal populations."
   ]
  },
  {
   "cell_type": "code",
   "execution_count": 27,
   "metadata": {},
   "outputs": [
    {
     "data": {
      "image/png": "[encoded data removed]",
      "text/plain": [
       "plot without title"
      ]
     },
     "metadata": {},
     "output_type": "display_data"
    }
   ],
   "source": [
    "ggplot(PlotCongressData %>% group_by(cluster) %>% summarize(Count = n())) +\n",
    "    geom_col(aes(x = as.factor(cluster), y = Count, fill = as.factor(cluster))) +\n",
    "    labs(x = \"Clustered District\", y = \"Number of Census Tracts (Population)\") + \n",
    "    theme_minimal() +\n",
    "    theme(legend.position=\"none\") +\n",
    "    scale_fill_brewer(palette = \"Dark2\")"
   ]
  },
  {
   "cell_type": "markdown",
   "metadata": {},
   "source": [
    "Shown above, District 4 (including much of what appears to be the Milwaukee metropolitan area) contains a vastly greater population than any other clustered district. K-Means has been shown to generate a logical and unbiased set of clusters of census tracts, it fails to produce Congressional districts with roughly equal populations. \n",
    "\n",
    "By design, neither K-Means nor Mean Shift ensure equal-sized clusters. In many clustering applications, such as the example explored at the beginning of this assignment, the natural clusters in the data are very different in size. "
   ]
  },
  {
   "cell_type": "markdown",
   "metadata": {},
   "source": [
    "### 4.3) Drawing Congressional Districts with Equal-Sized K-Means Clustering "
   ]
  },
  {
   "cell_type": "markdown",
   "metadata": {},
   "source": [
    "In this section, we alter the K-Means clustering algorithm in order to ensure roughly equal-sized clusters. An algorithm has been coded below, that is based on the algorithm developed by Schramm and DeZewarte in a June 2019 post on R Views (a popular R Community Blog).\n",
    "\n",
    "[https://rviews.rstudio.com/2019/06/13/equal-size-kmeans/]\n",
    "\n",
    "In short, the algorithm works in the following steps: \n",
    "\n",
    "- 1) Generate results of K-Means Clustering on data set as the initial cluster centers.\n",
    "\n",
    "- 2) Use the resulting cluster centers to re-assign every data point one at a time. This is done by rotating through each cluster in rounds and assigning the nearest data point (similar to \"team captains\" in a pickup sports game)\n",
    "\n",
    "- 3) Derive the new cluster centers by using the K-Means algorithm with K = 1 for each individual cluster\n",
    "\n",
    "- 4) Repeat steps 2-3 until convergence is achieved or maximum iterations has been reached\n",
    "\n",
    "The code for Equal-Sized K-Means  is below. Note, this can take a minute or so to run."
   ]
  },
  {
   "cell_type": "code",
   "execution_count": 28,
   "metadata": {},
   "outputs": [
    {
     "name": "stdout",
     "output_type": "stream",
     "text": [
      "[1] \"Ran  20  iterations\"\n"
     ]
    }
   ],
   "source": [
    "# Based on code from https://rviews.rstudio.com/2019/06/13/equal-size-kmeans/\n",
    "\n",
    "# Set Seed so that initial cluster centers are always the same\n",
    "set.seed(1)\n",
    "\n",
    "# Set Input Parameters\n",
    "k = 8\n",
    "iter = 20\n",
    "\n",
    "# We start off the algorithm with the results of K-Means using iter.max = 100\n",
    "kdat = as.data.frame(CongressData)\n",
    "kdat %>% kmeans(k, iter.max = 100) -> kclust\n",
    "\n",
    "# Create function for deriving distance between census tracts\n",
    "kdist = function(x1, y1, x2, y2){\n",
    "  # Note: distance is calculated via pythagorean theorem. A more accurate method would be the Great Circle distance.\n",
    "  # Given the scale of our data, and the limited regoin, euclidian distance is a suitable approximation\n",
    "  sqrt((x1-x2)^2 + (y1-y2)^2) }\n",
    "\n",
    "centers = kclust$centers %>% as.data.frame()\n",
    "converged <- 0\n",
    "\n",
    "\n",
    "for (looper in 1:iter) {\n",
    "    \n",
    "    # Determine distance from each district to each cluster center\n",
    "    kdat %<>% \n",
    "      mutate(D1 = kdist(LATITUDE, LONGITUDE, centers[1,1], centers[1,2]),\n",
    "             D2 = kdist(LATITUDE, LONGITUDE, centers[2,1], centers[2,2]),\n",
    "             D3 = kdist(LATITUDE, LONGITUDE, centers[3,1], centers[3,2]),\n",
    "             D4 = kdist(LATITUDE, LONGITUDE, centers[4,1], centers[4,2]),\n",
    "             D5 = kdist(LATITUDE, LONGITUDE, centers[5,1], centers[5,2]),\n",
    "             D6 = kdist(LATITUDE, LONGITUDE, centers[6,1], centers[6,2]),\n",
    "             D7 = kdist(LATITUDE, LONGITUDE, centers[7,1], centers[7,2]),\n",
    "             D8 = kdist(LATITUDE, LONGITUDE, centers[8,1], centers[8,2]))\n",
    "\n",
    "    kdat$assigned = 0\n",
    "    kdat$index = 1:nrow(kdat)\n",
    "    working = kdat\n",
    "    FirstRound = nrow(kdat) - (nrow(kdat) %% k)\n",
    "\n",
    "    for(i in 1:FirstRound){ \n",
    "      #cluster counts can be off by 1 due to uneven multiples of k. \n",
    "      j = if(i %% k == 0) k else (i %% k)\n",
    "      itemloc = \n",
    "        working$index[which(working[,(paste0(\"D\", j))] ==\n",
    "        min(working[,(paste0(\"D\",j))]))[1]]\n",
    "      kdat$assigned[kdat$index == itemloc] = j\n",
    "      working %<>% filter(!index == itemloc)\n",
    "    }\n",
    "\n",
    "        for(i in 1:nrow(working)){\n",
    "          #these leftover points get assigned to whoever's closest, without regard to k\n",
    "          kdat$assigned[kdat$index ==\n",
    "                          working$index[i]] = \n",
    "            which(working[i,3:(k+2)] == min(working[i, 3:(k+2)])) \n",
    "        }\n",
    "\n",
    "        # Use K-Means (K=1) for each cluster to determine the new cluster centers\n",
    "        NewCenters <- kdat %>% filter(assigned == 1) %>% \n",
    "                                select(LATITUDE, LONGITUDE) %>%\n",
    "                                kmeans(1) %$% centers %>%\n",
    "        rbind(kdat %>% \n",
    "                                filter(assigned == 2) %>%\n",
    "                                select(LATITUDE, LONGITUDE) %>%\n",
    "                                kmeans(1) %$% centers) %>%\n",
    "        rbind(kdat %>% \n",
    "                                filter(assigned == 3) %>%\n",
    "                                select(LATITUDE, LONGITUDE) %>%\n",
    "                                kmeans(1) %$% centers) %>%\n",
    "        rbind(kdat %>%\n",
    "                                filter(assigned == 4) %>%\n",
    "                                select(LATITUDE, LONGITUDE) %>%\n",
    "                                kmeans(1) %$% centers) %>%\n",
    "        rbind(kdat %>% \n",
    "                                filter(assigned == 5) %>%\n",
    "                                select(LATITUDE, LONGITUDE) %>%\n",
    "                                kmeans(1) %$% centers) %>%\n",
    "        rbind(kdat %>%\n",
    "                                filter(assigned == 6) %>%\n",
    "                                select(LATITUDE, LONGITUDE) %>%\n",
    "                                kmeans(1) %$% centers) %>%\n",
    "        rbind(kdat %>% \n",
    "                                filter(assigned == 7) %>%\n",
    "                                select(LATITUDE, LONGITUDE) %>%\n",
    "                                kmeans(1) %$% centers) %>%\n",
    "        rbind(kdat %>%\n",
    "                                filter(assigned == 8) %>%\n",
    "                                select(LATITUDE, LONGITUDE) %>%\n",
    "                                kmeans(1) %$% centers) %>%\n",
    "        as.data.frame()\n",
    "    \n",
    "        # Additional logic to account for misclustered outliers far away from any cluster\n",
    "        kdat %<>% mutate(assignedDist = ifelse(assigned == 1, D1,\n",
    "                                          ifelse(assigned == 2, D2,\n",
    "                                                ifelse(assigned == 3, D3,\n",
    "                                                      ifelse(assigned == 4, D4,\n",
    "                                                            ifelse(assigned == 5, D5,\n",
    "                                                                  ifelse(assigned == 6, D6,\n",
    "                                                                        ifelse(assigned == 7, D7, D8)))))))) %>%\n",
    "                  rowwise() %>%\n",
    "                  mutate(minDist = min(D1, D2, D3, D4, D5, D6, D7, D8)) %>%\n",
    "                  ungroup() %>%\n",
    "                  mutate(minDistClust = ifelse(minDist == D1, 1,\n",
    "                                          ifelse(minDist == D2, 2,\n",
    "                                                ifelse(minDist == D3, 3,\n",
    "                                                      ifelse(minDist == D4, 4,\n",
    "                                                            ifelse(minDist == D5, 5,\n",
    "                                                                  ifelse(minDist == D6, 6,\n",
    "                                                                        ifelse(minDist == D7, 7, 8))))))))\n",
    "\n",
    "        kdat %<>% mutate(assigned = ifelse(assignedDist > 2.25 & assignedDist != minDist,\n",
    "                                       minDistClust, assigned))\n",
    "    \n",
    "        # Determine movement of cluster center from previous iteration\n",
    "        Norm <- norm(as.matrix(centers$LATITUDE-NewCenters$LATITUDE, centers$LONGITUDE-NewCenters$LONGITUDE))\n",
    "        #print(paste(\"Norm = \", Norm))\n",
    "\n",
    "        if(Norm < 0.001) {\n",
    "            converged <- 1\n",
    "            break\n",
    "        }\n",
    "    \n",
    "        if(looper == 1) {\n",
    "            PlotCenters <- NewCenters\n",
    "            PlotCenters$cluster <- 1:k\n",
    "            PlotCenters$Iter <- looper\n",
    "        } else {\n",
    "            tempCenters <- NewCenters\n",
    "            tempCenters$cluster <- 1:k\n",
    "            tempCenters$Iter <- looper\n",
    "            PlotCenters <- rbind(PlotCenters, tempCenters)\n",
    "        }\n",
    "\n",
    "        if(looper == iter) {\n",
    "            #print(\"Warning: Did not converge\")\n",
    "        } else {\n",
    "        centers <- NewCenters\n",
    "        }\n",
    "    }\n",
    "\n",
    "print(paste(\"Ran \", looper, \" iterations\"))\n",
    "\n"
   ]
  },
  {
   "cell_type": "markdown",
   "metadata": {},
   "source": [
    "Rescale Data for Plotting"
   ]
  },
  {
   "cell_type": "code",
   "execution_count": 29,
   "metadata": {
    "collapsed": true
   },
   "outputs": [],
   "source": [
    "kdat$assigned %<>% as.factor()\n",
    "\n",
    "# Rescale the data for the purposes of plotting\n",
    "plotdata <- Data %>% transmute(LONGITUDE, LATITUDE)\n",
    "plotdata$cluster <- kdat$assigned\n",
    "\n",
    "# Rescale Plot Centers Data for plotting\n",
    "PlotCenters$LATITUDE <- (PlotCenters$LATITUDE*sd(plotdata$LATITUDE))+mean(plotdata$LATITUDE)\n",
    "PlotCenters$LONGITUDE <- (PlotCenters$LONGITUDE*sd(plotdata$LONGITUDE))+mean(plotdata$LONGITUDE)\n",
    "plotdata <- rbind(plotdata %>% mutate(type = \"Cencus Tract\"), \n",
    "                  PlotCenters %>% transmute(LATITUDE, LONGITUDE, cluster, type = \"Cluster Center\"))"
   ]
  },
  {
   "cell_type": "markdown",
   "metadata": {},
   "source": [
    "Below, we plot the resulting Equal-Sized K-Means clustered Congressional Districts. Note that the Census tracts are shown as smaller dots, while the cluster centers are shown as larger dots. The cluster centers corresponding to previous iterations are shown in higher transparency, allowing us to view the path of convergence of each cluster center."
   ]
  },
  {
   "cell_type": "code",
   "execution_count": 30,
   "metadata": {},
   "outputs": [
    {
     "data": {
      "image/png": "[encoded data removed]",
      "text/plain": [
       "plot without title"
      ]
     },
     "metadata": {},
     "output_type": "display_data"
    }
   ],
   "source": [
    "\n",
    "ggplot() +\n",
    "  geom_point(data = PlotCenters, \n",
    "             aes(x = LONGITUDE, y = LATITUDE, color = as.factor(cluster), \n",
    "                 alpha = as.numeric(Iter)),\n",
    "             size = 5)  + \n",
    "  geom_point(data = plotdata,\n",
    "           aes(x = LONGITUDE, y = LATITUDE, color = as.factor(cluster),\n",
    "               size = as.factor(type)), \n",
    "           alpha = 1/3) +\n",
    "  labs(x = \"Longitude (deg)\", y = \"Latitude (deg)\", title = \"Wisconsin Congressional Districts\",\n",
    "       subtitle = \"Equal-Sized K-Means Clustering\",\n",
    "       color = \"Clustered District\",\n",
    "       size = \"Data Type\",\n",
    "       alpha = \"Clustering Iteration\") +\n",
    "  scale_color_brewer(palette = \"Dark2\") +\n",
    "  scale_size_manual(values = c(1, 5)) +\n",
    "  theme_minimal()"
   ]
  },
  {
   "cell_type": "markdown",
   "metadata": {},
   "source": [
    "A zoomed in view of the densest region of Census tracts (Milwaukee metropolitan region) is shown below:"
   ]
  },
  {
   "cell_type": "code",
   "execution_count": 31,
   "metadata": {},
   "outputs": [
    {
     "name": "stderr",
     "output_type": "stream",
     "text": [
      "Warning message:\n",
      "\"Removed 121 rows containing missing values (geom_point).\"Warning message:\n",
      "\"Removed 1097 rows containing missing values (geom_point).\""
     ]
    },
    {
     "data": {
      "image/png": "[encoded data removed]",
      "text/plain": [
       "plot without title"
      ]
     },
     "metadata": {},
     "output_type": "display_data"
    }
   ],
   "source": [
    "ggplot() +\n",
    "  geom_point(data = PlotCenters, \n",
    "             aes(x = LONGITUDE, y = LATITUDE, color = as.factor(cluster), \n",
    "                 alpha = as.numeric(Iter)),\n",
    "             size = 5)  + \n",
    "  geom_point(data = plotdata,\n",
    "           aes(x = LONGITUDE, y = LATITUDE, color = as.factor(cluster),\n",
    "               size = as.factor(type)), \n",
    "           alpha = 1/3) +\n",
    "  labs(x = \"Longitude (deg)\", y = \"Latitude (deg)\", \n",
    "       title = \"Wisconsin Congressional Districts (Milwaukee Region)\",\n",
    "       subtitle = \"Equal-Sized K-Means Clustering\",\n",
    "       color = \"Clustered District\",\n",
    "       size = \"Data Type\",\n",
    "       alpha = \"Clustering Iteration\") +\n",
    "  scale_color_brewer(palette = \"Dark2\") +\n",
    "  scale_size_manual(values = c(1, 5)) +\n",
    "  scale_x_continuous(limits = c(-88.5, -87.5)) +\n",
    "  scale_y_continuous(limits = c(42.8, 43.5)) +\n",
    "  theme_minimal()"
   ]
  },
  {
   "cell_type": "markdown",
   "metadata": {},
   "source": [
    "Finally, we plot the number of Census tracts per clustered Congressional district once more."
   ]
  },
  {
   "cell_type": "code",
   "execution_count": 32,
   "metadata": {},
   "outputs": [
    {
     "data": {
      "image/png": "[encoded data removed]",
      "text/plain": [
       "plot without title"
      ]
     },
     "metadata": {},
     "output_type": "display_data"
    }
   ],
   "source": [
    "ggplot(plotdata %>% group_by(cluster) %>% summarize(Count = n())) +\n",
    "    geom_col(aes(x = as.factor(cluster), y = Count, fill = as.factor(cluster))) +\n",
    "    labs(x = \"Clustered District\", y = \"Number of Census Tracts\") + \n",
    "    theme_minimal() +\n",
    "    theme(legend.position=\"none\") +\n",
    "    scale_fill_brewer(palette = \"Dark2\")"
   ]
  },
  {
   "cell_type": "markdown",
   "metadata": {},
   "source": [
    "The clustered districts consist of roughly equal counts of Census tracts. "
   ]
  },
  {
   "cell_type": "code",
   "execution_count": 33,
   "metadata": {},
   "outputs": [
    {
     "data": {
      "image/png": "[encoded data removed]",
      "text/plain": [
       "plot without title"
      ]
     },
     "metadata": {},
     "output_type": "display_data"
    }
   ],
   "source": [
    "ggplot(PlotCongressDataMS %>% group_by(cluster) %>% summarize(Count = n())) +\n",
    "    geom_col(aes(x = as.factor(cluster), y = Count, fill = as.factor(cluster))) +\n",
    "    labs(x = \"Clustered District\", y = \"Number of Census Tracts\") + \n",
    "    theme_minimal() +\n",
    "    theme(legend.position=\"none\") +\n",
    "    scale_fill_brewer(palette = \"Dark2\")"
   ]
  },
  {
   "cell_type": "markdown",
   "metadata": {},
   "source": [
    "We have now found a solution that meets the following conditions required for our application:\n",
    "\n",
    "- Automated algorithm\n",
    "- Specific number of clusters (K = 8)\n",
    "- Roughly equal cluster size"
   ]
  },
  {
   "cell_type": "markdown",
   "metadata": {
    "collapsed": true
   },
   "source": [
    "### Activity 3: Drawing Conclusions\n",
    "\n",
    "#### Question 3. a)\n",
    "- Of the clustering algorithms explored above, which achieved results most suitable for this application? Why?\n",
    "\n",
    "#### Question 3. b)\n",
    "\n",
    "Often, machine learning solutions are sought for applications in which it is desired to remove human bias. Consider the various input parameters for each clustering algorithm explored in the above activities. \n",
    "\n",
    "- Are the clustering algorithms completely invulnerable to human bias?\n",
    "- If someone wished, could they apply a clustering algorithm to achieve biased results (e.g. tweaking input parameters until desired results are achieved)?\n"
   ]
  },
  {
   "cell_type": "code",
   "execution_count": null,
   "metadata": {
    "collapsed": true
   },
   "outputs": [],
   "source": []
  }
 ],
 "metadata": {
  "kernelspec": {
   "display_name": "R",
   "language": "R",
   "name": "ir"
  },
  "language_info": {
   "codemirror_mode": "r",
   "file_extension": ".r",
   "mimetype": "text/x-r-source",
   "name": "R",
   "pygments_lexer": "r",
   "version": "3.6.1"
  }
 },
 "nbformat": 4,
 "nbformat_minor": 2
}
